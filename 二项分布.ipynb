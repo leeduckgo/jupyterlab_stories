{
 "cells": [
  {
   "cell_type": "markdown",
   "metadata": {},
   "source": [
    "# 二项分布"
   ]
  },
  {
   "cell_type": "markdown",
   "metadata": {},
   "source": [
    "## 抛一个正反面概率均为 50% 的硬币三次，结果是两个正面的概率是多少？"
   ]
  },
  {
   "cell_type": "markdown",
   "metadata": {},
   "source": [
    "**我们先采用最简单的方法 —— 数数**\n",
    "\n",
    "一共有 8 种可能：\n",
    "```\n",
    "0 0 0\n",
    "0 0 1\n",
    "0 1 0\n",
    "1 0 0\n",
    "0 1 1\n",
    "1 1 0\n",
    "1 0 1\n",
    "1 1 1\n",
    "```\n",
    "\n",
    "其中有三种结果，存在「两个正面」。所以，概率为 3 * 1/8 = 3/8"
   ]
  },
  {
   "cell_type": "markdown",
   "metadata": {},
   "source": [
    "所有的情况概率分别为：\n",
    "\n",
    "```\n",
    "P(三个正面) = P(HHH) = 1/8\n",
    "P(两个正面) = P(HHT) + P(HTH) + P(THH) = 1/8 + 1/8 + 1/8 = 3/8\n",
    "P(一个正面) = P(HTT) + P(THT) + P(TTH) = 1/8 + 1/8 + 1/8 = 3/8\n",
    "P(没有正面) = P(TTT) = 1/8\n",
    "```\n",
    "\n",
    "设，随机变量 X = \"抛 3次硬币里结果是正面的次数\"。则：\n",
    "\n",
    "```\n",
    "P(X = 3) = 1/8\n",
    "P(X = 2) = 3/8\n",
    "P(X = 1) = 3/8\n",
    "P(X = 0) = 1/8\n",
    "```\n",
    "\n",
    "**【Python 实践】用 Python 验证分布**"
   ]
  },
  {
   "cell_type": "code",
   "execution_count": 60,
   "metadata": {},
   "outputs": [
    {
     "data": {
      "text/markdown": [
       "**概率分布：[(0, 129), (1, 372), (2, 365), (3, 134)]**"
      ],
      "text/plain": [
       "<IPython.core.display.Markdown object>"
      ]
     },
     "metadata": {},
     "output_type": "display_data"
    },
    {
     "data": {
      "image/png": "[encoded data removed]",
      "text/plain": [
       "<Figure size 432x288 with 1 Axes>"
      ]
     },
     "metadata": {
      "needs_background": "light"
     },
     "output_type": "display_data"
    }
   ],
   "source": [
    "# -*- coding: utf-8 -*-\n",
    "from collections import Counter\n",
    "import random\n",
    "import matplotlib.pyplot as plt\n",
    "from IPython.display import display, Markdown\n",
    "\n",
    "total_result = []\n",
    "for time in range(1000):\n",
    "    result = 0\n",
    "    for coin in range(3):\n",
    "        coin = random.randint(0, 1) # 0为正，1为反\n",
    "        result += coin\n",
    "    total_result.append(result)\n",
    "\n",
    "stat = Counter(total_result)\n",
    "sort_stat = sorted(stat.items(), key=lambda x:x[0], reverse=False)\n",
    "display(Markdown(\"**概率分布：\" + str(sort_stat) + \"**\"))\n",
    "x, y = zip(*sort_stat)\n",
    "\n",
    "labels = ['0 times', '1 times', '2 times', '3 times']\n",
    "plt.bar(range(len(y)), y, tick_label=labels)\n",
    "plt.show()"
   ]
  },
  {
   "cell_type": "markdown",
   "metadata": {},
   "source": [
    "**根据柱状图可以看出，概率是对称分布的。**"
   ]
  },
  {
   "cell_type": "markdown",
   "metadata": {},
   "source": [
    "## 往前一步，抛 9 次硬币里得到 5 个正面的概率是多少？\n",
    "\n",
    "数数太麻烦了。我们可以使用**「二项式系数」** 公式来计算概率分布：\n",
    "\n",
    "$$\\begin{pmatrix}n \\\\\\\\k\\end{pmatrix} = \\frac{n!}{k!(n-k)!}$$\n",
    "\n",
    "* 相关链接：https://en.wikipedia.org/wiki/Binomial_coefficient"
   ]
  },
  {
   "cell_type": "markdown",
   "metadata": {},
   "source": [
    "这个公式和帕斯卡三角（杨辉三角）等价，n+1 为「行数」，k+1 为「列数」。\n",
    "\n",
    "![triangle](pics/pascal_triangle_animated.gif)\n",
    "\n",
    "例如，在抛 3 次硬币 中有 2 次正面朝上的概率，是第 4 行第 3 列的值 3。\n",
    "\n",
    "- 相关链接：https://en.wikipedia.org/wiki/Pascal%27s_triangle\n",
    "\n",
    "**【Python 实践】用 Python 实现杨辉三角**"
   ]
  },
  {
   "cell_type": "code",
   "execution_count": 77,
   "metadata": {},
   "outputs": [
    {
     "name": "stdout",
     "output_type": "stream",
     "text": [
      "[1]\n",
      "[1, 1]\n",
      "[1, 2, 1]\n",
      "[1, 3, 3, 1]\n",
      "[1, 4, 6, 4, 1]\n",
      "[1, 5, 10, 10, 5, 1]\n",
      "[1, 6, 15, 20, 15, 6, 1]\n",
      "[1, 7, 21, 35, 35, 21, 7, 1]\n",
      "[1, 8, 28, 56, 70, 56, 28, 8, 1]\n",
      "[1, 9, 36, 84, 126, 126, 84, 36, 9, 1]\n"
     ]
    }
   ],
   "source": [
    "def triangel(n):\n",
    "    l=[1]\n",
    "    while True:\n",
    "        yield l\n",
    "        l=[l[x]+l[x+1] for x in range(len(l)-1)]\n",
    "        l.insert(0,1)\n",
    "        l.append(1)\n",
    "        if len(l)>10:\n",
    "            break\n",
    "\n",
    "#生成一个 generator 对象，然后通过for循环迭代输出每一行\n",
    "\n",
    "a=triangel(10)\n",
    "for i in a:\n",
    "    print(i)"
   ]
  }
 ],
 "metadata": {
  "kernelspec": {
   "display_name": "Python 3",
   "language": "python",
   "name": "python3"
  },
  "language_info": {
   "codemirror_mode": {
    "name": "ipython",
    "version": 3
   },
   "file_extension": ".py",
   "mimetype": "text/x-python",
   "name": "python",
   "nbconvert_exporter": "python",
   "pygments_lexer": "ipython3",
   "version": "3.7.4"
  }
 },
 "nbformat": 4,
 "nbformat_minor": 2
}
